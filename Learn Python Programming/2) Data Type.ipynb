{
 "cells": [
  {
   "cell_type": "markdown",
   "id": "be1cbdf8",
   "metadata": {},
   "source": [
    "# Data Types/Structures\n",
    "\n",
    "### * Numbers\n",
    "### * String \n",
    "### * List\n",
    "### * Tuple\n",
    "### * Set\n",
    "### * Dictionary"
   ]
  },
  {
   "cell_type": "markdown",
   "id": "2150d2b3",
   "metadata": {},
   "source": [
    "# Numbers"
   ]
  },
  {
   "cell_type": "markdown",
   "id": "5f43cc47",
   "metadata": {},
   "source": [
    "### Integers (int)"
   ]
  },
  {
   "cell_type": "code",
   "execution_count": 1,
   "id": "cbd7cd24",
   "metadata": {},
   "outputs": [],
   "source": [
    "# Variable and data assignment\n",
    "# a = variable\n",
    "# 20 = data \n",
    "\n",
    "a = 20"
   ]
  },
  {
   "cell_type": "code",
   "execution_count": 2,
   "id": "1fa3e4ef",
   "metadata": {},
   "outputs": [
    {
     "data": {
      "text/plain": [
       "20"
      ]
     },
     "execution_count": 2,
     "metadata": {},
     "output_type": "execute_result"
    }
   ],
   "source": [
    "a"
   ]
  },
  {
   "cell_type": "code",
   "execution_count": 3,
   "id": "afb1c37e",
   "metadata": {},
   "outputs": [
    {
     "name": "stdout",
     "output_type": "stream",
     "text": [
      "20\n"
     ]
    }
   ],
   "source": [
    "# You can also print explicitly (recommended)\n",
    "print (a)"
   ]
  },
  {
   "cell_type": "markdown",
   "id": "dc4c479c",
   "metadata": {},
   "source": [
    "### How to check the data type?"
   ]
  },
  {
   "cell_type": "code",
   "execution_count": 4,
   "id": "a6883901",
   "metadata": {},
   "outputs": [
    {
     "data": {
      "text/plain": [
       "int"
      ]
     },
     "execution_count": 4,
     "metadata": {},
     "output_type": "execute_result"
    }
   ],
   "source": [
    "type(a)"
   ]
  },
  {
   "cell_type": "markdown",
   "id": "8b0fffb5",
   "metadata": {},
   "source": [
    "# Float"
   ]
  },
  {
   "cell_type": "code",
   "execution_count": 1,
   "id": "6c356810",
   "metadata": {},
   "outputs": [
    {
     "name": "stdout",
     "output_type": "stream",
     "text": [
      "10.0\n"
     ]
    },
    {
     "data": {
      "text/plain": [
       "float"
      ]
     },
     "execution_count": 1,
     "metadata": {},
     "output_type": "execute_result"
    }
   ],
   "source": [
    "# You can assign, print and check datatype in the same cell.\n",
    "b = 10.0\n",
    "\n",
    "print (b)\n",
    "\n",
    "type(b)"
   ]
  },
  {
   "cell_type": "markdown",
   "id": "2d1c505d",
   "metadata": {},
   "source": [
    "### Let's do couple of mathematical operation."
   ]
  },
  {
   "cell_type": "code",
   "execution_count": 2,
   "id": "5ebebd4e",
   "metadata": {},
   "outputs": [],
   "source": [
    "a = 10\n",
    "b = 20"
   ]
  },
  {
   "cell_type": "code",
   "execution_count": 3,
   "id": "4805a4bc",
   "metadata": {},
   "outputs": [
    {
     "name": "stdout",
     "output_type": "stream",
     "text": [
      "30\n"
     ]
    }
   ],
   "source": [
    "c = a + b\n",
    "print (c)"
   ]
  },
  {
   "cell_type": "code",
   "execution_count": 4,
   "id": "802cb31e",
   "metadata": {},
   "outputs": [
    {
     "name": "stdout",
     "output_type": "stream",
     "text": [
      "300\n"
     ]
    }
   ],
   "source": [
    "print (c * 10)"
   ]
  },
  {
   "cell_type": "markdown",
   "id": "f2435927",
   "metadata": {},
   "source": [
    "### Complex (We don't use this in our course)"
   ]
  },
  {
   "cell_type": "code",
   "execution_count": 5,
   "id": "b1e23a7b",
   "metadata": {},
   "outputs": [
    {
     "data": {
      "text/plain": [
       "complex"
      ]
     },
     "execution_count": 5,
     "metadata": {},
     "output_type": "execute_result"
    }
   ],
   "source": [
    "c = 6+2j\n",
    "\n",
    "type(c)"
   ]
  },
  {
   "cell_type": "markdown",
   "id": "09fc5a1d",
   "metadata": {},
   "source": [
    "### String"
   ]
  },
  {
   "cell_type": "code",
   "execution_count": 6,
   "id": "7baaf92d",
   "metadata": {},
   "outputs": [
    {
     "name": "stdout",
     "output_type": "stream",
     "text": [
      "Hello World\n"
     ]
    }
   ],
   "source": [
    "print (\"Hello World\")"
   ]
  },
  {
   "cell_type": "code",
   "execution_count": 7,
   "id": "7c8c9b94",
   "metadata": {},
   "outputs": [],
   "source": [
    "first_string = 'Python'\n",
    "second_string = 'is a powerful'\n",
    "third_string = 'Language'"
   ]
  },
  {
   "cell_type": "code",
   "execution_count": 8,
   "id": "d71c65e1",
   "metadata": {},
   "outputs": [
    {
     "data": {
      "text/plain": [
       "str"
      ]
     },
     "execution_count": 8,
     "metadata": {},
     "output_type": "execute_result"
    }
   ],
   "source": [
    "type(first_string)"
   ]
  },
  {
   "cell_type": "markdown",
   "id": "a2707ddb",
   "metadata": {},
   "source": [
    "### Let's add the strings"
   ]
  },
  {
   "cell_type": "code",
   "execution_count": 9,
   "id": "3426f4e9",
   "metadata": {},
   "outputs": [
    {
     "name": "stdout",
     "output_type": "stream",
     "text": [
      "Pythonis a powerfulLanguage\n"
     ]
    }
   ],
   "source": [
    "print (first_string +  second_string + third_string)"
   ]
  },
  {
   "cell_type": "code",
   "execution_count": 10,
   "id": "d8208df0",
   "metadata": {},
   "outputs": [
    {
     "name": "stdout",
     "output_type": "stream",
     "text": [
      "WowwPython is Easy\n"
     ]
    }
   ],
   "source": [
    "print ('Woww' + 'Python is' , 'Easy')"
   ]
  },
  {
   "cell_type": "code",
   "execution_count": 11,
   "id": "c3b2659d",
   "metadata": {},
   "outputs": [],
   "source": [
    "total_string = first_string+second_string+third_string"
   ]
  },
  {
   "cell_type": "code",
   "execution_count": 12,
   "id": "cff4d264",
   "metadata": {},
   "outputs": [
    {
     "name": "stdout",
     "output_type": "stream",
     "text": [
      "Pythonis a powerfulLanguage\n"
     ]
    }
   ],
   "source": [
    "print (total_string)"
   ]
  },
  {
   "cell_type": "markdown",
   "id": "4b59d433",
   "metadata": {},
   "source": [
    "### Other operation on strings"
   ]
  },
  {
   "cell_type": "code",
   "execution_count": 13,
   "id": "96bf624d",
   "metadata": {},
   "outputs": [
    {
     "name": "stdout",
     "output_type": "stream",
     "text": [
      "DayDayDayDayDay\n"
     ]
    }
   ],
   "source": [
    "print ('Day' * 5)"
   ]
  },
  {
   "cell_type": "code",
   "execution_count": 14,
   "id": "bf887a78",
   "metadata": {},
   "outputs": [
    {
     "name": "stdout",
     "output_type": "stream",
     "text": [
      "--------------------\n",
      "Woww Python\n",
      "********************\n"
     ]
    }
   ],
   "source": [
    "print ('-' * 20)\n",
    "print ('Woww Python')\n",
    "print ('*' * 20)"
   ]
  },
  {
   "cell_type": "code",
   "execution_count": 15,
   "id": "dafad87a",
   "metadata": {},
   "outputs": [
    {
     "ename": "TypeError",
     "evalue": "can only concatenate str (not \"int\") to str",
     "output_type": "error",
     "traceback": [
      "\u001b[1;31m---------------------------------------------------------------------------\u001b[0m",
      "\u001b[1;31mTypeError\u001b[0m                                 Traceback (most recent call last)",
      "Input \u001b[1;32mIn [15]\u001b[0m, in \u001b[0;36m<cell line: 1>\u001b[1;34m()\u001b[0m\n\u001b[1;32m----> 1\u001b[0m \u001b[38;5;28mprint\u001b[39m (\u001b[38;5;124;43m'\u001b[39;49m\u001b[38;5;124;43mDay\u001b[39;49m\u001b[38;5;124;43m'\u001b[39;49m\u001b[43m \u001b[49m\u001b[38;5;241;43m+\u001b[39;49m\u001b[43m \u001b[49m\u001b[38;5;241;43m5\u001b[39;49m)\n",
      "\u001b[1;31mTypeError\u001b[0m: can only concatenate str (not \"int\") to str"
     ]
    }
   ],
   "source": [
    "print ('Day' + 5)"
   ]
  },
  {
   "cell_type": "code",
   "execution_count": 16,
   "id": "2f5231aa",
   "metadata": {},
   "outputs": [
    {
     "name": "stdout",
     "output_type": "stream",
     "text": [
      "day2\n"
     ]
    }
   ],
   "source": [
    "#print (int('Day') + 2)\n",
    "print ('day' + str(2))"
   ]
  },
  {
   "cell_type": "markdown",
   "id": "c91cba84",
   "metadata": {},
   "source": [
    "### You can convert number into string datatype but not viceversa"
   ]
  },
  {
   "cell_type": "markdown",
   "id": "98535260",
   "metadata": {},
   "source": [
    "# List"
   ]
  },
  {
   "cell_type": "markdown",
   "id": "78363641",
   "metadata": {},
   "source": [
    "# Tuple"
   ]
  },
  {
   "cell_type": "markdown",
   "id": "2bb44452",
   "metadata": {},
   "source": [
    "# Set"
   ]
  },
  {
   "cell_type": "markdown",
   "id": "2e184ae3",
   "metadata": {},
   "source": [
    "# Dictionary"
   ]
  },
  {
   "cell_type": "code",
   "execution_count": null,
   "id": "9edab65d",
   "metadata": {},
   "outputs": [],
   "source": []
  },
  {
   "cell_type": "code",
   "execution_count": null,
   "id": "be66f34c",
   "metadata": {},
   "outputs": [],
   "source": []
  }
 ],
 "metadata": {
  "kernelspec": {
   "display_name": "Python 3 (ipykernel)",
   "language": "python",
   "name": "python3"
  },
  "language_info": {
   "codemirror_mode": {
    "name": "ipython",
    "version": 3
   },
   "file_extension": ".py",
   "mimetype": "text/x-python",
   "name": "python",
   "nbconvert_exporter": "python",
   "pygments_lexer": "ipython3",
   "version": "3.9.12"
  }
 },
 "nbformat": 4,
 "nbformat_minor": 5
}
